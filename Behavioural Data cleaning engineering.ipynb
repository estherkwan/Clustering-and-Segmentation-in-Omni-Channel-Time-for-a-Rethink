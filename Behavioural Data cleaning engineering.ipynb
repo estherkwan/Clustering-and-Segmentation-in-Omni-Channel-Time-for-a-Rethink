{
 "cells": [
  {
   "cell_type": "code",
   "execution_count": 1,
   "metadata": {},
   "outputs": [],
   "source": [
    "#import packages\n",
    "import pandas as pd\n",
    "import numpy as np\n",
    "import seaborn as sns\n",
    "import matplotlib.pyplot as plt\n",
    "import io\n",
    "import os\n",
    "import sys\n",
    "from sklearn.preprocessing import MinMaxScaler\n",
    "from sklearn.cluster import KMeans\n",
    "from sklearn.tree import DecisionTreeClassifier as DTC\n",
    "from sklearn.linear_model import LogisticRegression as LR\n",
    "from sklearn.svm import SVC\n",
    "from sklearn.ensemble import VotingClassifier\n",
    "from sklearn.model_selection import GridSearchCV"
   ]
  },
  {
   "cell_type": "code",
   "execution_count": 2,
   "metadata": {},
   "outputs": [],
   "source": [
    "# read the file\n",
    "purchase_df=pd.read_csv('Purchase.csv')"
   ]
  },
  {
   "cell_type": "code",
   "execution_count": 3,
   "metadata": {},
   "outputs": [],
   "source": [
    "#drop unecessary variables \n",
    "purchase_df=purchase_df.drop(columns=['MobilePanel','FixedPanel','purchase_own','purchase_any'])\n",
    "#drop NaN\n",
    "purchase_df.dropna(subset=[\"TIMESPSS\",\"Duration\",\"DEVICE_TYPE\",\"type_touch\"],inplace=True)"
   ]
  },
  {
   "cell_type": "code",
   "execution_count": 4,
   "metadata": {},
   "outputs": [],
   "source": [
    "#regroup type of touch\n",
    "purchase_df['type_touch']=purchase_df['type_touch'].replace([2,3],1)\n",
    "purchase_df['type_touch']=purchase_df['type_touch'].replace([4,5,6],2)\n",
    "purchase_df['type_touch']=purchase_df['type_touch'].replace([7,8,9],3)\n",
    "purchase_df['type_touch']=purchase_df['type_touch'].replace([10,12],4)\n",
    "purchase_df['type_touch']=purchase_df['type_touch'].replace([13,14,15],5)\n",
    "purchase_df['type_touch']=purchase_df['type_touch'].replace([16],6)\n",
    "\n",
    "purchase_df=pd.get_dummies(purchase_df, columns=[\"type_touch\"], prefix=[\"touch\"])"
   ]
  },
  {
   "cell_type": "code",
   "execution_count": 5,
   "metadata": {},
   "outputs": [],
   "source": [
    "# convert the column type to floats for multiplication \n",
    "purchase_df['touch_1']=purchase_df['touch_1'].astype('float64')\n",
    "purchase_df['touch_2']=purchase_df['touch_2'].astype('float64')\n",
    "purchase_df['touch_3']=purchase_df['touch_3'].astype('float64')\n",
    "purchase_df['touch_4']=purchase_df['touch_4'].astype('float64')\n",
    "purchase_df['touch_5']=purchase_df['touch_5'].astype('float64')\n",
    "purchase_df['touch_6']=purchase_df['touch_6'].astype('float64')"
   ]
  },
  {
   "cell_type": "code",
   "execution_count": 6,
   "metadata": {},
   "outputs": [],
   "source": [
    "#Calculate the total number of interactions per purchase ID (sum of touchpoints)\n",
    "weight1_df=purchase_df.groupby(['UserID','PurchaseID'])[['touch_1','touch_2','touch_3','touch_4','touch_5','touch_6']].sum().reset_index()\n",
    "weight1_df['total_interaction']=weight1_df[['touch_1','touch_2','touch_3','touch_4','touch_5','touch_6']].sum(axis=1)"
   ]
  },
  {
   "cell_type": "code",
   "execution_count": 7,
   "metadata": {},
   "outputs": [],
   "source": [
    "#Transform number of interaction of each touch points into length of duration on each touch points \n",
    "purchase_df['touch1']=purchase_df['touch_1']*purchase_df['Duration']\n",
    "purchase_df['touch2']=purchase_df['touch_2']*purchase_df['Duration']\n",
    "purchase_df['touch3']=purchase_df['touch_3']*purchase_df['Duration']\n",
    "purchase_df['touch4']=purchase_df['touch_4']*purchase_df['Duration']\n",
    "purchase_df['touch5']=purchase_df['touch_5']*purchase_df['Duration']\n",
    "purchase_df['touch6']=purchase_df['touch_6']*purchase_df['Duration']"
   ]
  },
  {
   "cell_type": "code",
   "execution_count": 8,
   "metadata": {},
   "outputs": [],
   "source": [
    "purchase_df.DEVICE_TYPE=purchase_df.DEVICE_TYPE.replace(\"MOBILE\",0)\n",
    "purchase_df.DEVICE_TYPE=purchase_df.DEVICE_TYPE.replace(\"FIXED\",1)"
   ]
  },
  {
   "cell_type": "code",
   "execution_count": 9,
   "metadata": {},
   "outputs": [
    {
     "data": {
      "text/html": [
       "<div>\n",
       "<style scoped>\n",
       "    .dataframe tbody tr th:only-of-type {\n",
       "        vertical-align: middle;\n",
       "    }\n",
       "\n",
       "    .dataframe tbody tr th {\n",
       "        vertical-align: top;\n",
       "    }\n",
       "\n",
       "    .dataframe thead th {\n",
       "        text-align: right;\n",
       "    }\n",
       "</style>\n",
       "<table border=\"1\" class=\"dataframe\">\n",
       "  <thead>\n",
       "    <tr style=\"text-align: right;\">\n",
       "      <th></th>\n",
       "      <th>UserID</th>\n",
       "      <th>PurchaseID</th>\n",
       "      <th>TIMESPSS</th>\n",
       "      <th>Duration</th>\n",
       "      <th>DEVICE_TYPE</th>\n",
       "      <th>touch_1</th>\n",
       "      <th>touch_2</th>\n",
       "      <th>touch_3</th>\n",
       "      <th>touch_4</th>\n",
       "      <th>touch_5</th>\n",
       "      <th>touch_6</th>\n",
       "      <th>touch1</th>\n",
       "      <th>touch2</th>\n",
       "      <th>touch3</th>\n",
       "      <th>touch4</th>\n",
       "      <th>touch5</th>\n",
       "      <th>touch6</th>\n",
       "    </tr>\n",
       "  </thead>\n",
       "  <tbody>\n",
       "    <tr>\n",
       "      <th>0</th>\n",
       "      <td>9558</td>\n",
       "      <td>1</td>\n",
       "      <td>12/3/2016 22:18</td>\n",
       "      <td>5.786</td>\n",
       "      <td>0</td>\n",
       "      <td>0.0</td>\n",
       "      <td>0.0</td>\n",
       "      <td>1.0</td>\n",
       "      <td>0.0</td>\n",
       "      <td>0.0</td>\n",
       "      <td>0.0</td>\n",
       "      <td>0.0</td>\n",
       "      <td>0.0</td>\n",
       "      <td>5.786</td>\n",
       "      <td>0.0</td>\n",
       "      <td>0.0</td>\n",
       "      <td>0.0</td>\n",
       "    </tr>\n",
       "    <tr>\n",
       "      <th>1</th>\n",
       "      <td>9558</td>\n",
       "      <td>1</td>\n",
       "      <td>13/3/2016 5:25</td>\n",
       "      <td>65.725</td>\n",
       "      <td>0</td>\n",
       "      <td>0.0</td>\n",
       "      <td>0.0</td>\n",
       "      <td>1.0</td>\n",
       "      <td>0.0</td>\n",
       "      <td>0.0</td>\n",
       "      <td>0.0</td>\n",
       "      <td>0.0</td>\n",
       "      <td>0.0</td>\n",
       "      <td>65.725</td>\n",
       "      <td>0.0</td>\n",
       "      <td>0.0</td>\n",
       "      <td>0.0</td>\n",
       "    </tr>\n",
       "    <tr>\n",
       "      <th>2</th>\n",
       "      <td>9558</td>\n",
       "      <td>1</td>\n",
       "      <td>13/3/2016 12:26</td>\n",
       "      <td>6.492</td>\n",
       "      <td>0</td>\n",
       "      <td>0.0</td>\n",
       "      <td>0.0</td>\n",
       "      <td>1.0</td>\n",
       "      <td>0.0</td>\n",
       "      <td>0.0</td>\n",
       "      <td>0.0</td>\n",
       "      <td>0.0</td>\n",
       "      <td>0.0</td>\n",
       "      <td>6.492</td>\n",
       "      <td>0.0</td>\n",
       "      <td>0.0</td>\n",
       "      <td>0.0</td>\n",
       "    </tr>\n",
       "    <tr>\n",
       "      <th>3</th>\n",
       "      <td>9657</td>\n",
       "      <td>2</td>\n",
       "      <td>18/7/2015 13:00</td>\n",
       "      <td>57.000</td>\n",
       "      <td>1</td>\n",
       "      <td>0.0</td>\n",
       "      <td>1.0</td>\n",
       "      <td>0.0</td>\n",
       "      <td>0.0</td>\n",
       "      <td>0.0</td>\n",
       "      <td>0.0</td>\n",
       "      <td>0.0</td>\n",
       "      <td>57.0</td>\n",
       "      <td>0.000</td>\n",
       "      <td>0.0</td>\n",
       "      <td>0.0</td>\n",
       "      <td>0.0</td>\n",
       "    </tr>\n",
       "    <tr>\n",
       "      <th>4</th>\n",
       "      <td>1</td>\n",
       "      <td>3</td>\n",
       "      <td>7/8/2015 19:16</td>\n",
       "      <td>120.000</td>\n",
       "      <td>1</td>\n",
       "      <td>0.0</td>\n",
       "      <td>0.0</td>\n",
       "      <td>1.0</td>\n",
       "      <td>0.0</td>\n",
       "      <td>0.0</td>\n",
       "      <td>0.0</td>\n",
       "      <td>0.0</td>\n",
       "      <td>0.0</td>\n",
       "      <td>120.000</td>\n",
       "      <td>0.0</td>\n",
       "      <td>0.0</td>\n",
       "      <td>0.0</td>\n",
       "    </tr>\n",
       "  </tbody>\n",
       "</table>\n",
       "</div>"
      ],
      "text/plain": [
       "   UserID  PurchaseID         TIMESPSS  Duration  DEVICE_TYPE  touch_1  \\\n",
       "0    9558           1  12/3/2016 22:18     5.786            0      0.0   \n",
       "1    9558           1   13/3/2016 5:25    65.725            0      0.0   \n",
       "2    9558           1  13/3/2016 12:26     6.492            0      0.0   \n",
       "3    9657           2  18/7/2015 13:00    57.000            1      0.0   \n",
       "4       1           3   7/8/2015 19:16   120.000            1      0.0   \n",
       "\n",
       "   touch_2  touch_3  touch_4  touch_5  touch_6  touch1  touch2   touch3  \\\n",
       "0      0.0      1.0      0.0      0.0      0.0     0.0     0.0    5.786   \n",
       "1      0.0      1.0      0.0      0.0      0.0     0.0     0.0   65.725   \n",
       "2      0.0      1.0      0.0      0.0      0.0     0.0     0.0    6.492   \n",
       "3      1.0      0.0      0.0      0.0      0.0     0.0    57.0    0.000   \n",
       "4      0.0      1.0      0.0      0.0      0.0     0.0     0.0  120.000   \n",
       "\n",
       "   touch4  touch5  touch6  \n",
       "0     0.0     0.0     0.0  \n",
       "1     0.0     0.0     0.0  \n",
       "2     0.0     0.0     0.0  \n",
       "3     0.0     0.0     0.0  \n",
       "4     0.0     0.0     0.0  "
      ]
     },
     "execution_count": 9,
     "metadata": {},
     "output_type": "execute_result"
    }
   ],
   "source": [
    "purchase_df.head()"
   ]
  },
  {
   "cell_type": "code",
   "execution_count": 10,
   "metadata": {},
   "outputs": [
    {
     "name": "stderr",
     "output_type": "stream",
     "text": [
      "<ipython-input-10-4ce366303a6b>:3: FutureWarning: Indexing with multiple keys (implicitly converted to a tuple of keys) will be deprecated, use a list instead.\n",
      "  weight2_df=purchase_df.groupby(['UserID','PurchaseID'])['Duration','touch1','touch2','touch3','touch4','touch5','touch6'].sum().reset_index()\n"
     ]
    }
   ],
   "source": [
    "#Consolidate the duration of each touch points \n",
    "#Reset index by using groupby with functions sum to understand user time spend on each touch point per puchase ID \n",
    "weight2_df=purchase_df.groupby(['UserID','PurchaseID'])['Duration','touch1','touch2','touch3','touch4','touch5','touch6'].sum().reset_index()"
   ]
  },
  {
   "cell_type": "code",
   "execution_count": 11,
   "metadata": {},
   "outputs": [],
   "source": [
    "#Reset index by using groupby with function mean to understand user's preference per puchase ID\n",
    "weight3_df=purchase_df.groupby(['UserID','PurchaseID'])['DEVICE_TYPE'].mean().reset_index()"
   ]
  },
  {
   "cell_type": "code",
   "execution_count": 12,
   "metadata": {},
   "outputs": [],
   "source": [
    "#Calculate journey length \n",
    "purchase_df['TIMESPSS']=pd.to_datetime(purchase_df['TIMESPSS'])\n",
    "weight4_df=purchase_df.drop(columns=['DEVICE_TYPE','touch1','touch2','touch3','touch4','touch5','touch6'])\n",
    "\n",
    "weight4_df.sort_values(['PurchaseID'], inplace=True) \n",
    "weight4_df['Journey Length']=\\\n",
    "   [int(n.days)if n > pd.Timedelta(days=1) else \"0\" if pd.notnull(n) else \"0\" \n",
    "   for n in weight4_df.groupby(['UserID','PurchaseID'])['TIMESPSS'].diff()]\n",
    "\n",
    "weight4_df['Journey Length']=weight4_df['Journey Length'].astype('int64')\n",
    "\n",
    "weight4_df=weight4_df.groupby(['UserID','PurchaseID'])['Journey Length'].max().reset_index()\n"
   ]
  },
  {
   "cell_type": "code",
   "execution_count": 13,
   "metadata": {},
   "outputs": [],
   "source": [
    "#Merge weight1 weight2 weight3 weight4 into weight_final \n",
    "weight_final_df=pd.merge(weight1_df,weight2_df, on=['PurchaseID','UserID'])\n",
    "weight_final_df=pd.merge(weight_final_df,weight3_df, on=['PurchaseID','UserID'])\n",
    "weight_final_df=pd.merge(weight_final_df,weight4_df, on=['PurchaseID','UserID'])"
   ]
  },
  {
   "cell_type": "code",
   "execution_count": 14,
   "metadata": {},
   "outputs": [],
   "source": [
    "#final touchpoint weighting\n",
    "weight_final_df[['touch1','touch2','touch3','touch4','touch5','touch6']]=weight_final_df[['touch1','touch2','touch3','touch4','touch5','touch6']].div(weight_final_df.Duration, axis=0)"
   ]
  },
  {
   "cell_type": "code",
   "execution_count": 15,
   "metadata": {},
   "outputs": [],
   "source": [
    "#normalise data \n",
    "from sklearn import preprocessing\n",
    "scaler=MinMaxScaler() \n",
    "weight_final_df['Duration']=scaler.fit_transform(weight_final_df[['Duration']].values.reshape(-1,1))\n",
    "weight_final_df['Journey Length']=scaler.fit_transform(weight_final_df[['Journey Length']].values.reshape(-1,1))\n",
    "weight_final_df['total_interaction']=scaler.fit_transform(weight_final_df[['total_interaction']].values.reshape(-1,1))"
   ]
  },
  {
   "cell_type": "code",
   "execution_count": 16,
   "metadata": {},
   "outputs": [],
   "source": [
    "#drop any nan \n",
    "weight_final_df.dropna(subset=[\"Duration\",'touch1','touch2','touch3','touch4','touch5','touch6',\"DEVICE_TYPE\", \"Journey Length\",\"total_interaction\"], inplace=True)\n"
   ]
  },
  {
   "cell_type": "code",
   "execution_count": 17,
   "metadata": {},
   "outputs": [],
   "source": [
    "weight_final_df.to_excel('weight_purchase_final.xlsx')"
   ]
  },
  {
   "cell_type": "code",
   "execution_count": 18,
   "metadata": {},
   "outputs": [
    {
     "data": {
      "text/html": [
       "<div>\n",
       "<style scoped>\n",
       "    .dataframe tbody tr th:only-of-type {\n",
       "        vertical-align: middle;\n",
       "    }\n",
       "\n",
       "    .dataframe tbody tr th {\n",
       "        vertical-align: top;\n",
       "    }\n",
       "\n",
       "    .dataframe thead th {\n",
       "        text-align: right;\n",
       "    }\n",
       "</style>\n",
       "<table border=\"1\" class=\"dataframe\">\n",
       "  <thead>\n",
       "    <tr style=\"text-align: right;\">\n",
       "      <th></th>\n",
       "      <th>UserID</th>\n",
       "      <th>PurchaseID</th>\n",
       "      <th>touch_1</th>\n",
       "      <th>touch_2</th>\n",
       "      <th>touch_3</th>\n",
       "      <th>touch_4</th>\n",
       "      <th>touch_5</th>\n",
       "      <th>touch_6</th>\n",
       "      <th>total_interaction</th>\n",
       "      <th>Duration</th>\n",
       "      <th>touch1</th>\n",
       "      <th>touch2</th>\n",
       "      <th>touch3</th>\n",
       "      <th>touch4</th>\n",
       "      <th>touch5</th>\n",
       "      <th>touch6</th>\n",
       "      <th>DEVICE_TYPE</th>\n",
       "      <th>Journey Length</th>\n",
       "    </tr>\n",
       "  </thead>\n",
       "  <tbody>\n",
       "    <tr>\n",
       "      <th>0</th>\n",
       "      <td>1</td>\n",
       "      <td>3</td>\n",
       "      <td>0.0</td>\n",
       "      <td>0.0</td>\n",
       "      <td>1.0</td>\n",
       "      <td>0.0</td>\n",
       "      <td>0.0</td>\n",
       "      <td>0.0</td>\n",
       "      <td>0.000000</td>\n",
       "      <td>0.000034</td>\n",
       "      <td>0.0</td>\n",
       "      <td>0.000000</td>\n",
       "      <td>1.000000</td>\n",
       "      <td>0.0</td>\n",
       "      <td>0.000000</td>\n",
       "      <td>0.000000</td>\n",
       "      <td>1.0</td>\n",
       "      <td>0.000000</td>\n",
       "    </tr>\n",
       "    <tr>\n",
       "      <th>1</th>\n",
       "      <td>1</td>\n",
       "      <td>4</td>\n",
       "      <td>5.0</td>\n",
       "      <td>0.0</td>\n",
       "      <td>0.0</td>\n",
       "      <td>0.0</td>\n",
       "      <td>0.0</td>\n",
       "      <td>0.0</td>\n",
       "      <td>0.000062</td>\n",
       "      <td>0.000258</td>\n",
       "      <td>1.0</td>\n",
       "      <td>0.000000</td>\n",
       "      <td>0.000000</td>\n",
       "      <td>0.0</td>\n",
       "      <td>0.000000</td>\n",
       "      <td>0.000000</td>\n",
       "      <td>1.0</td>\n",
       "      <td>0.392097</td>\n",
       "    </tr>\n",
       "    <tr>\n",
       "      <th>2</th>\n",
       "      <td>1</td>\n",
       "      <td>5</td>\n",
       "      <td>0.0</td>\n",
       "      <td>0.0</td>\n",
       "      <td>1.0</td>\n",
       "      <td>0.0</td>\n",
       "      <td>1.0</td>\n",
       "      <td>1.0</td>\n",
       "      <td>0.000031</td>\n",
       "      <td>0.000086</td>\n",
       "      <td>0.0</td>\n",
       "      <td>0.000000</td>\n",
       "      <td>0.504263</td>\n",
       "      <td>0.0</td>\n",
       "      <td>0.159007</td>\n",
       "      <td>0.336731</td>\n",
       "      <td>1.0</td>\n",
       "      <td>0.196049</td>\n",
       "    </tr>\n",
       "    <tr>\n",
       "      <th>3</th>\n",
       "      <td>2</td>\n",
       "      <td>6</td>\n",
       "      <td>0.0</td>\n",
       "      <td>25.0</td>\n",
       "      <td>0.0</td>\n",
       "      <td>0.0</td>\n",
       "      <td>0.0</td>\n",
       "      <td>2.0</td>\n",
       "      <td>0.000403</td>\n",
       "      <td>0.000233</td>\n",
       "      <td>0.0</td>\n",
       "      <td>0.866747</td>\n",
       "      <td>0.000000</td>\n",
       "      <td>0.0</td>\n",
       "      <td>0.000000</td>\n",
       "      <td>0.133253</td>\n",
       "      <td>0.0</td>\n",
       "      <td>0.284195</td>\n",
       "    </tr>\n",
       "    <tr>\n",
       "      <th>4</th>\n",
       "      <td>2</td>\n",
       "      <td>7</td>\n",
       "      <td>0.0</td>\n",
       "      <td>0.0</td>\n",
       "      <td>0.0</td>\n",
       "      <td>0.0</td>\n",
       "      <td>0.0</td>\n",
       "      <td>2.0</td>\n",
       "      <td>0.000016</td>\n",
       "      <td>0.000007</td>\n",
       "      <td>0.0</td>\n",
       "      <td>0.000000</td>\n",
       "      <td>0.000000</td>\n",
       "      <td>0.0</td>\n",
       "      <td>0.000000</td>\n",
       "      <td>1.000000</td>\n",
       "      <td>0.0</td>\n",
       "      <td>0.000000</td>\n",
       "    </tr>\n",
       "  </tbody>\n",
       "</table>\n",
       "</div>"
      ],
      "text/plain": [
       "   UserID  PurchaseID  touch_1  touch_2  touch_3  touch_4  touch_5  touch_6  \\\n",
       "0       1           3      0.0      0.0      1.0      0.0      0.0      0.0   \n",
       "1       1           4      5.0      0.0      0.0      0.0      0.0      0.0   \n",
       "2       1           5      0.0      0.0      1.0      0.0      1.0      1.0   \n",
       "3       2           6      0.0     25.0      0.0      0.0      0.0      2.0   \n",
       "4       2           7      0.0      0.0      0.0      0.0      0.0      2.0   \n",
       "\n",
       "   total_interaction  Duration  touch1    touch2    touch3  touch4    touch5  \\\n",
       "0           0.000000  0.000034     0.0  0.000000  1.000000     0.0  0.000000   \n",
       "1           0.000062  0.000258     1.0  0.000000  0.000000     0.0  0.000000   \n",
       "2           0.000031  0.000086     0.0  0.000000  0.504263     0.0  0.159007   \n",
       "3           0.000403  0.000233     0.0  0.866747  0.000000     0.0  0.000000   \n",
       "4           0.000016  0.000007     0.0  0.000000  0.000000     0.0  0.000000   \n",
       "\n",
       "     touch6  DEVICE_TYPE  Journey Length  \n",
       "0  0.000000          1.0        0.000000  \n",
       "1  0.000000          1.0        0.392097  \n",
       "2  0.336731          1.0        0.196049  \n",
       "3  0.133253          0.0        0.284195  \n",
       "4  1.000000          0.0        0.000000  "
      ]
     },
     "execution_count": 18,
     "metadata": {},
     "output_type": "execute_result"
    }
   ],
   "source": [
    "weight_final_df.head()"
   ]
  },
  {
   "cell_type": "code",
   "execution_count": 19,
   "metadata": {},
   "outputs": [
    {
     "name": "stdout",
     "output_type": "stream",
     "text": [
      "                   Duration    touch1    touch2    touch3    touch4    touch5  \\\n",
      "Duration           1.000000 -0.008575 -0.012980  0.009942  0.017634  0.025182   \n",
      "touch1            -0.008575  1.000000 -0.299397 -0.538603 -0.142297 -0.279901   \n",
      "touch2            -0.012980 -0.299397  1.000000 -0.249572 -0.054510 -0.115274   \n",
      "touch3             0.009942 -0.538603 -0.249572  1.000000 -0.048708 -0.213209   \n",
      "touch4             0.017634 -0.142297 -0.054510 -0.048708  1.000000 -0.057081   \n",
      "touch5             0.025182 -0.279901 -0.115274 -0.213209 -0.057081  1.000000   \n",
      "touch6            -0.026004 -0.201259 -0.080522 -0.171838 -0.041182 -0.082565   \n",
      "DEVICE_TYPE        0.028397  0.000626 -0.065731  0.071721 -0.004165  0.008781   \n",
      "Journey Length     0.173913  0.017323 -0.033681  0.051721  0.026037  0.006357   \n",
      "total_interaction  0.983099 -0.006745 -0.010107  0.006382  0.020703  0.023007   \n",
      "\n",
      "                     touch6  DEVICE_TYPE  Journey Length  total_interaction  \n",
      "Duration          -0.026004     0.028397        0.173913           0.983099  \n",
      "touch1            -0.201259     0.000626        0.017323          -0.006745  \n",
      "touch2            -0.080522    -0.065731       -0.033681          -0.010107  \n",
      "touch3            -0.171838     0.071721        0.051721           0.006382  \n",
      "touch4            -0.041182    -0.004165        0.026037           0.020703  \n",
      "touch5            -0.082565     0.008781        0.006357           0.023007  \n",
      "touch6             1.000000    -0.059545       -0.114377          -0.025875  \n",
      "DEVICE_TYPE       -0.059545     1.000000        0.006952           0.003636  \n",
      "Journey Length    -0.114377     0.006952        1.000000           0.179215  \n",
      "total_interaction -0.025875     0.003636        0.179215           1.000000  \n"
     ]
    }
   ],
   "source": [
    "#find correltaions between varibales \n",
    "corr=weight_final_df[[\"Duration\",'touch1','touch2','touch3','touch4','touch5','touch6',\"DEVICE_TYPE\", \"Journey Length\",\"total_interaction\"]].corr()\n",
    "print(corr)\n"
   ]
  },
  {
   "cell_type": "code",
   "execution_count": 20,
   "metadata": {},
   "outputs": [
    {
     "data": {
      "image/png": "[encoded data removed]",
      "text/plain": [
       "<Figure size 432x288 with 2 Axes>"
      ]
     },
     "metadata": {
      "needs_background": "light"
     },
     "output_type": "display_data"
    }
   ],
   "source": [
    "#plot correlation results into heat map \n",
    "sns.heatmap(corr, annot=True)\n",
    "plt.show()"
   ]
  }
 ],
 "metadata": {
  "kernelspec": {
   "display_name": "Python 3",
   "language": "python",
   "name": "python3"
  },
  "language_info": {
   "codemirror_mode": {
    "name": "ipython",
    "version": 3
   },
   "file_extension": ".py",
   "mimetype": "text/x-python",
   "name": "python",
   "nbconvert_exporter": "python",
   "pygments_lexer": "ipython3",
   "version": "3.7.6"
  }
 },
 "nbformat": 4,
 "nbformat_minor": 4
}
