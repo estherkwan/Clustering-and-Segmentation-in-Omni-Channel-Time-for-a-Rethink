{
 "cells": [
  {
   "cell_type": "code",
   "execution_count": 3,
   "metadata": {},
   "outputs": [],
   "source": [
    "#import packages\n",
    "import pandas as pd\n",
    "import numpy as np\n",
    "import seaborn as sns\n",
    "import matplotlib.pyplot as plt\n",
    "import io\n",
    "import os\n",
    "import sys\n",
    "from sklearn.preprocessing import MinMaxScaler\n",
    "from sklearn.cluster import KMeans\n",
    "from sklearn.tree import DecisionTreeClassifier as DTC\n",
    "from sklearn.linear_model import LogisticRegression as LR\n",
    "from sklearn.svm import SVC\n",
    "from sklearn.ensemble import VotingClassifier\n",
    "from sklearn.model_selection import GridSearchCV"
   ]
  },
  {
   "cell_type": "code",
   "execution_count": 4,
   "metadata": {},
   "outputs": [],
   "source": [
    "# read the file\n",
    "demo_df=pd.read_csv('TravelDataDemos.csv')"
   ]
  },
  {
   "cell_type": "code",
   "execution_count": 5,
   "metadata": {},
   "outputs": [],
   "source": [
    "#DropNaN\n",
    "demo_df.dropna(subset=[\"Education\",\"Region\", \"Size of manucipality\",\"Household size\", \"GenderID\",\"Age\", \"Occupation\",\"Gross income (year)\",\"Social Class\", \"Education\",\"Status \", \"# children in household\" ], inplace=True)\n"
   ]
  },
  {
   "cell_type": "code",
   "execution_count": 6,
   "metadata": {},
   "outputs": [],
   "source": [
    "#categorise Age \n",
    "demo_df['age_bins']=pd.cut(x=demo_df['Age'], bins=[17,20,29,39,49,59,69,79,89,99])\n",
    "demo_df['age_category']=pd.cut(x=demo_df['Age'], bins=[17,20,29,39,49,59,69,79,89,99],labels=['0','1','2','3','4','5','6','7','8',])\n",
    "demo_df=demo_df.drop(columns=['Age','age_bins'])\n"
   ]
  },
  {
   "cell_type": "code",
   "execution_count": 7,
   "metadata": {},
   "outputs": [],
   "source": [
    "#Cleaning \n",
    "demo_df.drop(demo_df.index[demo_df['Occupation']==97],inplace=True)\n",
    "demo_df.drop(demo_df.index[demo_df['Gross income (year)']==8],inplace=True)\n",
    "demo_df.drop(demo_df.index[demo_df['Status ']==97],inplace=True)"
   ]
  },
  {
   "cell_type": "code",
   "execution_count": 9,
   "metadata": {},
   "outputs": [
    {
     "name": "stdout",
     "output_type": "stream",
     "text": [
      "                           Region  Size of manucipality  Household size  \\\n",
      "Region                   1.000000             -0.310104        0.057948   \n",
      "Size of manucipality    -0.310104              1.000000       -0.139128   \n",
      "Household size           0.057948             -0.139128        1.000000   \n",
      "GenderID                -0.018586             -0.022361        0.008373   \n",
      "Occupation              -0.024705              0.008106       -0.193622   \n",
      "Gross income (year)     -0.004415             -0.048210        0.346368   \n",
      "Social Class             0.033459             -0.011046       -0.209118   \n",
      "Education               -0.036321              0.041538        0.058775   \n",
      "Status                   0.060501             -0.122947        0.735215   \n",
      "# children in household  0.012275             -0.077582        0.763307   \n",
      "\n",
      "                         GenderID  Occupation  Gross income (year)  \\\n",
      "Region                  -0.018586   -0.024705            -0.004415   \n",
      "Size of manucipality    -0.022361    0.008106            -0.048210   \n",
      "Household size           0.008373   -0.193622             0.346368   \n",
      "GenderID                 1.000000    0.036395            -0.207817   \n",
      "Occupation               0.036395    1.000000            -0.296797   \n",
      "Gross income (year)     -0.207817   -0.296797             1.000000   \n",
      "Social Class             0.101598    0.403462            -0.500012   \n",
      "Education               -0.069862   -0.227729             0.370689   \n",
      "Status                   0.020933   -0.153635             0.265174   \n",
      "# children in household  0.041563   -0.211091             0.175974   \n",
      "\n",
      "                         Social Class  Education   Status   \\\n",
      "Region                       0.033459  -0.036321  0.060501   \n",
      "Size of manucipality        -0.011046   0.041538 -0.122947   \n",
      "Household size              -0.209118   0.058775  0.735215   \n",
      "GenderID                     0.101598  -0.069862  0.020933   \n",
      "Occupation                   0.403462  -0.227729 -0.153635   \n",
      "Gross income (year)         -0.500012   0.370689  0.265174   \n",
      "Social Class                 1.000000  -0.677220 -0.102567   \n",
      "Education                   -0.677220   1.000000 -0.021722   \n",
      "Status                      -0.102567  -0.021722  1.000000   \n",
      "# children in household     -0.211292   0.110965  0.436497   \n",
      "\n",
      "                         # children in household  \n",
      "Region                                  0.012275  \n",
      "Size of manucipality                   -0.077582  \n",
      "Household size                          0.763307  \n",
      "GenderID                                0.041563  \n",
      "Occupation                             -0.211091  \n",
      "Gross income (year)                     0.175974  \n",
      "Social Class                           -0.211292  \n",
      "Education                               0.110965  \n",
      "Status                                  0.436497  \n",
      "# children in household                 1.000000  \n"
     ]
    }
   ],
   "source": [
    "#find correltaions between varibales \n",
    "corr=demo_df[['Region', 'Size of manucipality','Household size', 'GenderID','Occupation','Gross income (year)','Social Class', 'Education','Status ', '# children in household','age_category']].corr()\n",
    "print(corr)"
   ]
  },
  {
   "cell_type": "code",
   "execution_count": null,
   "metadata": {},
   "outputs": [],
   "source": [
    "#plot correlation results into heat map \n",
    "sns.heatmap(corr, annot=True)\n",
    "plt.show()"
   ]
  },
  {
   "cell_type": "code",
   "execution_count": null,
   "metadata": {},
   "outputs": [],
   "source": []
  }
 ],
 "metadata": {
  "kernelspec": {
   "display_name": "Python 3",
   "language": "python",
   "name": "python3"
  },
  "language_info": {
   "codemirror_mode": {
    "name": "ipython",
    "version": 3
   },
   "file_extension": ".py",
   "mimetype": "text/x-python",
   "name": "python",
   "nbconvert_exporter": "python",
   "pygments_lexer": "ipython3",
   "version": "3.7.6"
  }
 },
 "nbformat": 4,
 "nbformat_minor": 4
}
