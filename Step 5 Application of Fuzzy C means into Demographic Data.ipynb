{
 "cells": [
  {
   "cell_type": "code",
   "execution_count": 26,
   "metadata": {},
   "outputs": [],
   "source": [
    "import sklearn\n",
    "import skfuzzy as fuzz\n",
    "from fcmeans import FCM\n",
    "import pandas as pd\n",
    "import numpy as np\n",
    "import matplotlib.pyplot as plt\n",
    "import seaborn as sns\n",
    "\n",
    "%matplotlib inline"
   ]
  },
  {
   "cell_type": "code",
   "execution_count": 27,
   "metadata": {},
   "outputs": [],
   "source": [
    "demo_df = pd.read_excel('Demo_Refined_withUserID.xlsx')"
   ]
  },
  {
   "cell_type": "code",
   "execution_count": 28,
   "metadata": {},
   "outputs": [],
   "source": [
    "#fuzzycmeans\n",
    "#cntr is your cluster means\n",
    "#break down the clustering results to cntr, u, u0, d, jm, p, fpc\n",
    "#u is the assignment per record (e.g. the same as the \"cluster\" column in k-means). There are 4 columns of data and they sum to 1 (e.g. per cluster probabilities)\n",
    "#\".transpose()\" is added to fix data in reverse order (variables as rows and cases as columns)\n",
    "#https://pythonhosted.org/scikit-fuzzy/api/skfuzzy.html#skfuzzy.cmeans\n",
    "#fpc=final fuzzy parition coefficient \n",
    "#cntr-clustermeans\n",
    "\n",
    "\n",
    "cntr, u, u0, d, jm, p, fpc = fuzz.cluster.cmeans(demo_df[['Region', 'Size of manucipality','Household size', 'GenderID','Occupation','Gross income (year)','Social Class', 'Education','Status ', '# children in household','age_category']].transpose(), c=7, m=1.5, error=0.005, maxiter=1000, init=None)\n",
    "    \n"
   ]
  },
  {
   "cell_type": "code",
   "execution_count": 29,
   "metadata": {},
   "outputs": [],
   "source": [
    "demo_df['cluster_0'] = u[0]\n",
    "demo_df['cluster_1'] = u[1]\n",
    "demo_df['cluster_2'] = u[2]\n",
    "demo_df['cluster_3'] = u[3]\n",
    "demo_df['cluster_4'] = u[4]\n",
    "demo_df['cluster_5'] = u[5]\n",
    "demo_df['cluster_6'] = u[6]"
   ]
  },
  {
   "cell_type": "code",
   "execution_count": 30,
   "metadata": {},
   "outputs": [],
   "source": [
    "#Find the best value of c \n",
    "fpcs = []\n",
    "ncenters = [2,3,4,5,6,7,8,9,10]\n",
    "for c in ncenters:\n",
    "    cntr, u, u0, d, jm, p, fpc = fuzz.cluster.cmeans(demo_df[['Region', 'Size of manucipality','Household size', 'GenderID','Occupation','Gross income (year)','Social Class', 'Education','Status ', '# children in household','age_category']].transpose(), c=c, m=1.5, error=0.005, maxiter=1000, init=None)\n",
    "    # Store fpc values for later\n",
    "    fpcs.append(fpc)"
   ]
  },
  {
   "cell_type": "code",
   "execution_count": 31,
   "metadata": {},
   "outputs": [
    {
     "data": {
      "text/plain": [
       "Text(0, 0.5, 'Fuzzy partition coefficient')"
      ]
     },
     "execution_count": 31,
     "metadata": {},
     "output_type": "execute_result"
    },
    {
     "data": {
      "image/png": "[encoded data removed]",
      "text/plain": [
       "<Figure size 432x288 with 1 Axes>"
      ]
     },
     "metadata": {
      "needs_background": "light"
     },
     "output_type": "display_data"
    }
   ],
   "source": [
    "fig, ax = plt.subplots()\n",
    "ax.plot(np.r_[2:11], fpcs)\n",
    "ax.set_xlabel(\"Number of centers\")\n",
    "ax.set_ylabel(\"Fuzzy partition coefficient\")"
   ]
  },
  {
   "cell_type": "code",
   "execution_count": 32,
   "metadata": {},
   "outputs": [],
   "source": [
    "#output fuzzy cmeans result\n",
    "demo_df.to_excel('Demo_CMeans_7.xlsx')"
   ]
  },
  {
   "cell_type": "code",
   "execution_count": 33,
   "metadata": {},
   "outputs": [],
   "source": [
    "#merge c means clustering reults to the consolidated prediction results from step 4 \n",
    "cm7_df=pd.read_excel('Demo_CMeans_7.xlsx')\n",
    "pred_df=pd.read_excel('prediction results.xlsx')\n",
    "\n",
    "joined_df=cm7_df.merge(pred_df, how='left', left_on=['UserID'], right_on=['UserID'])"
   ]
  },
  {
   "cell_type": "code",
   "execution_count": 34,
   "metadata": {},
   "outputs": [
    {
     "data": {
      "text/html": [
       "<div>\n",
       "<style scoped>\n",
       "    .dataframe tbody tr th:only-of-type {\n",
       "        vertical-align: middle;\n",
       "    }\n",
       "\n",
       "    .dataframe tbody tr th {\n",
       "        vertical-align: top;\n",
       "    }\n",
       "\n",
       "    .dataframe thead th {\n",
       "        text-align: right;\n",
       "    }\n",
       "</style>\n",
       "<table border=\"1\" class=\"dataframe\">\n",
       "  <thead>\n",
       "    <tr style=\"text-align: right;\">\n",
       "      <th></th>\n",
       "      <th>Unnamed: 0</th>\n",
       "      <th>UserID</th>\n",
       "      <th>Region</th>\n",
       "      <th>Size of manucipality</th>\n",
       "      <th>Household size</th>\n",
       "      <th>GenderID</th>\n",
       "      <th>Occupation</th>\n",
       "      <th>Gross income (year)</th>\n",
       "      <th># children in household</th>\n",
       "      <th>Social Class</th>\n",
       "      <th>...</th>\n",
       "      <th>cluster_3</th>\n",
       "      <th>cluster_4</th>\n",
       "      <th>cluster_5</th>\n",
       "      <th>cluster_6</th>\n",
       "      <th>lsvc_p</th>\n",
       "      <th>dtc_p</th>\n",
       "      <th>knn_p</th>\n",
       "      <th>nbay_p</th>\n",
       "      <th>logreg_p</th>\n",
       "      <th>sum_p</th>\n",
       "    </tr>\n",
       "  </thead>\n",
       "  <tbody>\n",
       "    <tr>\n",
       "      <th>0</th>\n",
       "      <td>0</td>\n",
       "      <td>1</td>\n",
       "      <td>5</td>\n",
       "      <td>6</td>\n",
       "      <td>1</td>\n",
       "      <td>1</td>\n",
       "      <td>2</td>\n",
       "      <td>2</td>\n",
       "      <td>0</td>\n",
       "      <td>5</td>\n",
       "      <td>...</td>\n",
       "      <td>0.627881</td>\n",
       "      <td>0.143010</td>\n",
       "      <td>0.055639</td>\n",
       "      <td>0.071175</td>\n",
       "      <td>0.0</td>\n",
       "      <td>1.0</td>\n",
       "      <td>0.0</td>\n",
       "      <td>0.0</td>\n",
       "      <td>0.0</td>\n",
       "      <td>1.0</td>\n",
       "    </tr>\n",
       "    <tr>\n",
       "      <th>1</th>\n",
       "      <td>1</td>\n",
       "      <td>2</td>\n",
       "      <td>3</td>\n",
       "      <td>3</td>\n",
       "      <td>2</td>\n",
       "      <td>2</td>\n",
       "      <td>2</td>\n",
       "      <td>7</td>\n",
       "      <td>0</td>\n",
       "      <td>2</td>\n",
       "      <td>...</td>\n",
       "      <td>0.053477</td>\n",
       "      <td>0.292285</td>\n",
       "      <td>0.283878</td>\n",
       "      <td>0.015014</td>\n",
       "      <td>0.0</td>\n",
       "      <td>4.0</td>\n",
       "      <td>1.0</td>\n",
       "      <td>0.0</td>\n",
       "      <td>0.0</td>\n",
       "      <td>5.0</td>\n",
       "    </tr>\n",
       "    <tr>\n",
       "      <th>2</th>\n",
       "      <td>2</td>\n",
       "      <td>4</td>\n",
       "      <td>4</td>\n",
       "      <td>4</td>\n",
       "      <td>5</td>\n",
       "      <td>1</td>\n",
       "      <td>2</td>\n",
       "      <td>5</td>\n",
       "      <td>3</td>\n",
       "      <td>1</td>\n",
       "      <td>...</td>\n",
       "      <td>0.021447</td>\n",
       "      <td>0.099402</td>\n",
       "      <td>0.028903</td>\n",
       "      <td>0.009356</td>\n",
       "      <td>2.0</td>\n",
       "      <td>1.0</td>\n",
       "      <td>1.0</td>\n",
       "      <td>2.0</td>\n",
       "      <td>2.0</td>\n",
       "      <td>8.0</td>\n",
       "    </tr>\n",
       "    <tr>\n",
       "      <th>3</th>\n",
       "      <td>3</td>\n",
       "      <td>5</td>\n",
       "      <td>4</td>\n",
       "      <td>5</td>\n",
       "      <td>4</td>\n",
       "      <td>1</td>\n",
       "      <td>2</td>\n",
       "      <td>5</td>\n",
       "      <td>2</td>\n",
       "      <td>2</td>\n",
       "      <td>...</td>\n",
       "      <td>0.001230</td>\n",
       "      <td>0.008912</td>\n",
       "      <td>0.003185</td>\n",
       "      <td>0.000411</td>\n",
       "      <td>8.0</td>\n",
       "      <td>7.0</td>\n",
       "      <td>7.0</td>\n",
       "      <td>7.0</td>\n",
       "      <td>8.0</td>\n",
       "      <td>37.0</td>\n",
       "    </tr>\n",
       "    <tr>\n",
       "      <th>4</th>\n",
       "      <td>4</td>\n",
       "      <td>6</td>\n",
       "      <td>2</td>\n",
       "      <td>6</td>\n",
       "      <td>1</td>\n",
       "      <td>1</td>\n",
       "      <td>7</td>\n",
       "      <td>2</td>\n",
       "      <td>0</td>\n",
       "      <td>5</td>\n",
       "      <td>...</td>\n",
       "      <td>0.101371</td>\n",
       "      <td>0.024891</td>\n",
       "      <td>0.013196</td>\n",
       "      <td>0.755756</td>\n",
       "      <td>0.0</td>\n",
       "      <td>3.0</td>\n",
       "      <td>1.0</td>\n",
       "      <td>1.0</td>\n",
       "      <td>0.0</td>\n",
       "      <td>5.0</td>\n",
       "    </tr>\n",
       "  </tbody>\n",
       "</table>\n",
       "<p>5 rows × 26 columns</p>\n",
       "</div>"
      ],
      "text/plain": [
       "   Unnamed: 0  UserID  Region  Size of manucipality  Household size  GenderID  \\\n",
       "0           0       1       5                     6               1         1   \n",
       "1           1       2       3                     3               2         2   \n",
       "2           2       4       4                     4               5         1   \n",
       "3           3       5       4                     5               4         1   \n",
       "4           4       6       2                     6               1         1   \n",
       "\n",
       "   Occupation  Gross income (year)  # children in household  Social Class  \\\n",
       "0           2                    2                        0             5   \n",
       "1           2                    7                        0             2   \n",
       "2           2                    5                        3             1   \n",
       "3           2                    5                        2             2   \n",
       "4           7                    2                        0             5   \n",
       "\n",
       "   ...  cluster_3  cluster_4  cluster_5  cluster_6  lsvc_p  dtc_p  knn_p  \\\n",
       "0  ...   0.627881   0.143010   0.055639   0.071175     0.0    1.0    0.0   \n",
       "1  ...   0.053477   0.292285   0.283878   0.015014     0.0    4.0    1.0   \n",
       "2  ...   0.021447   0.099402   0.028903   0.009356     2.0    1.0    1.0   \n",
       "3  ...   0.001230   0.008912   0.003185   0.000411     8.0    7.0    7.0   \n",
       "4  ...   0.101371   0.024891   0.013196   0.755756     0.0    3.0    1.0   \n",
       "\n",
       "   nbay_p  logreg_p  sum_p  \n",
       "0     0.0       0.0    1.0  \n",
       "1     0.0       0.0    5.0  \n",
       "2     2.0       2.0    8.0  \n",
       "3     7.0       8.0   37.0  \n",
       "4     1.0       0.0    5.0  \n",
       "\n",
       "[5 rows x 26 columns]"
      ]
     },
     "execution_count": 34,
     "metadata": {},
     "output_type": "execute_result"
    }
   ],
   "source": [
    "joined_df.head()"
   ]
  },
  {
   "cell_type": "code",
   "execution_count": 35,
   "metadata": {},
   "outputs": [],
   "source": [
    "joined_df.to_excel('CM_Analysis.xlsx')"
   ]
  },
  {
   "cell_type": "code",
   "execution_count": null,
   "metadata": {},
   "outputs": [],
   "source": []
  }
 ],
 "metadata": {
  "kernelspec": {
   "display_name": "Python 3",
   "language": "python",
   "name": "python3"
  },
  "language_info": {
   "codemirror_mode": {
    "name": "ipython",
    "version": 3
   },
   "file_extension": ".py",
   "mimetype": "text/x-python",
   "name": "python",
   "nbconvert_exporter": "python",
   "pygments_lexer": "ipython3",
   "version": "3.7.6"
  }
 },
 "nbformat": 4,
 "nbformat_minor": 4
}
